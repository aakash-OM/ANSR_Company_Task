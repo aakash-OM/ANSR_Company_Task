{
 "cells": [
  {
   "cell_type": "markdown",
   "id": "95a3ed0d",
   "metadata": {},
   "source": [
    "**Submitted By: AAKASH MITTAL aakashmittal0207@gmail.com (7906835097)**"
   ]
  },
  {
   "cell_type": "markdown",
   "id": "bd36cb38",
   "metadata": {},
   "source": [
    "Excel Task file: https://drive.google.com/file/d/1myGZC6wzn5RlerjjmNG44YAqoPZ4P7tp/view?usp=sharing"
   ]
  },
  {
   "cell_type": "code",
   "execution_count": null,
   "id": "e6fa7105",
   "metadata": {},
   "outputs": [],
   "source": []
  },
  {
   "cell_type": "code",
   "execution_count": 1,
   "id": "790c1105",
   "metadata": {},
   "outputs": [],
   "source": [
    "import numpy as np\n",
    "import pandas as pd\n",
    "import seaborn as sns\n",
    "import matplotlib.pyplot as plt"
   ]
  },
  {
   "cell_type": "code",
   "execution_count": 2,
   "id": "c88196ed",
   "metadata": {
    "scrolled": true
   },
   "outputs": [
    {
     "data": {
      "text/html": [
       "<div>\n",
       "<style scoped>\n",
       "    .dataframe tbody tr th:only-of-type {\n",
       "        vertical-align: middle;\n",
       "    }\n",
       "\n",
       "    .dataframe tbody tr th {\n",
       "        vertical-align: top;\n",
       "    }\n",
       "\n",
       "    .dataframe thead th {\n",
       "        text-align: right;\n",
       "    }\n",
       "</style>\n",
       "<table border=\"1\" class=\"dataframe\">\n",
       "  <thead>\n",
       "    <tr style=\"text-align: right;\">\n",
       "      <th></th>\n",
       "      <th>date</th>\n",
       "      <th>product_id</th>\n",
       "      <th>quantity</th>\n",
       "      <th>revenue</th>\n",
       "    </tr>\n",
       "  </thead>\n",
       "  <tbody>\n",
       "    <tr>\n",
       "      <th>0</th>\n",
       "      <td>2023-07-01</td>\n",
       "      <td>1001</td>\n",
       "      <td>10</td>\n",
       "      <td>100.0</td>\n",
       "    </tr>\n",
       "    <tr>\n",
       "      <th>1</th>\n",
       "      <td>2023-07-01</td>\n",
       "      <td>1002</td>\n",
       "      <td>5</td>\n",
       "      <td>75.0</td>\n",
       "    </tr>\n",
       "    <tr>\n",
       "      <th>2</th>\n",
       "      <td>2023-07-02</td>\n",
       "      <td>1001</td>\n",
       "      <td>8</td>\n",
       "      <td>80.0</td>\n",
       "    </tr>\n",
       "    <tr>\n",
       "      <th>3</th>\n",
       "      <td>2023-07-02</td>\n",
       "      <td>1003</td>\n",
       "      <td>3</td>\n",
       "      <td>45.0</td>\n",
       "    </tr>\n",
       "    <tr>\n",
       "      <th>4</th>\n",
       "      <td>2023-07-03</td>\n",
       "      <td>1002</td>\n",
       "      <td>12</td>\n",
       "      <td>180.0</td>\n",
       "    </tr>\n",
       "    <tr>\n",
       "      <th>5</th>\n",
       "      <td>2023-07-03</td>\n",
       "      <td>1003</td>\n",
       "      <td>6</td>\n",
       "      <td>90.0</td>\n",
       "    </tr>\n",
       "    <tr>\n",
       "      <th>6</th>\n",
       "      <td>2023-07-04</td>\n",
       "      <td>1001</td>\n",
       "      <td>15</td>\n",
       "      <td>150.0</td>\n",
       "    </tr>\n",
       "    <tr>\n",
       "      <th>7</th>\n",
       "      <td>2023-07-04</td>\n",
       "      <td>1002</td>\n",
       "      <td>7</td>\n",
       "      <td>105.0</td>\n",
       "    </tr>\n",
       "    <tr>\n",
       "      <th>8</th>\n",
       "      <td>2023-07-04</td>\n",
       "      <td>1003</td>\n",
       "      <td>9</td>\n",
       "      <td>135.0</td>\n",
       "    </tr>\n",
       "  </tbody>\n",
       "</table>\n",
       "</div>"
      ],
      "text/plain": [
       "         date  product_id  quantity  revenue\n",
       "0  2023-07-01        1001        10    100.0\n",
       "1  2023-07-01        1002         5     75.0\n",
       "2  2023-07-02        1001         8     80.0\n",
       "3  2023-07-02        1003         3     45.0\n",
       "4  2023-07-03        1002        12    180.0\n",
       "5  2023-07-03        1003         6     90.0\n",
       "6  2023-07-04        1001        15    150.0\n",
       "7  2023-07-04        1002         7    105.0\n",
       "8  2023-07-04        1003         9    135.0"
      ]
     },
     "execution_count": 2,
     "metadata": {},
     "output_type": "execute_result"
    }
   ],
   "source": [
    "df = pd.read_csv('sales_data.csv')\n",
    "df"
   ]
  },
  {
   "cell_type": "code",
   "execution_count": null,
   "id": "7fba2377",
   "metadata": {},
   "outputs": [],
   "source": []
  },
  {
   "cell_type": "code",
   "execution_count": 3,
   "id": "ffe2b941",
   "metadata": {},
   "outputs": [],
   "source": [
    "# Reading Dataset"
   ]
  },
  {
   "cell_type": "code",
   "execution_count": 4,
   "id": "775ec429",
   "metadata": {
    "scrolled": true
   },
   "outputs": [
    {
     "data": {
      "text/html": [
       "<div>\n",
       "<style scoped>\n",
       "    .dataframe tbody tr th:only-of-type {\n",
       "        vertical-align: middle;\n",
       "    }\n",
       "\n",
       "    .dataframe tbody tr th {\n",
       "        vertical-align: top;\n",
       "    }\n",
       "\n",
       "    .dataframe thead th {\n",
       "        text-align: right;\n",
       "    }\n",
       "</style>\n",
       "<table border=\"1\" class=\"dataframe\">\n",
       "  <thead>\n",
       "    <tr style=\"text-align: right;\">\n",
       "      <th></th>\n",
       "      <th>date</th>\n",
       "      <th>product_id</th>\n",
       "      <th>quantity</th>\n",
       "      <th>revenue</th>\n",
       "    </tr>\n",
       "  </thead>\n",
       "  <tbody>\n",
       "    <tr>\n",
       "      <th>0</th>\n",
       "      <td>2023-07-01</td>\n",
       "      <td>1001</td>\n",
       "      <td>10</td>\n",
       "      <td>100.0</td>\n",
       "    </tr>\n",
       "    <tr>\n",
       "      <th>1</th>\n",
       "      <td>2023-07-01</td>\n",
       "      <td>1002</td>\n",
       "      <td>5</td>\n",
       "      <td>75.0</td>\n",
       "    </tr>\n",
       "    <tr>\n",
       "      <th>2</th>\n",
       "      <td>2023-07-02</td>\n",
       "      <td>1001</td>\n",
       "      <td>8</td>\n",
       "      <td>80.0</td>\n",
       "    </tr>\n",
       "    <tr>\n",
       "      <th>3</th>\n",
       "      <td>2023-07-02</td>\n",
       "      <td>1003</td>\n",
       "      <td>3</td>\n",
       "      <td>45.0</td>\n",
       "    </tr>\n",
       "    <tr>\n",
       "      <th>4</th>\n",
       "      <td>2023-07-03</td>\n",
       "      <td>1002</td>\n",
       "      <td>12</td>\n",
       "      <td>180.0</td>\n",
       "    </tr>\n",
       "  </tbody>\n",
       "</table>\n",
       "</div>"
      ],
      "text/plain": [
       "         date  product_id  quantity  revenue\n",
       "0  2023-07-01        1001        10    100.0\n",
       "1  2023-07-01        1002         5     75.0\n",
       "2  2023-07-02        1001         8     80.0\n",
       "3  2023-07-02        1003         3     45.0\n",
       "4  2023-07-03        1002        12    180.0"
      ]
     },
     "execution_count": 4,
     "metadata": {},
     "output_type": "execute_result"
    }
   ],
   "source": [
    "df.head()"
   ]
  },
  {
   "cell_type": "code",
   "execution_count": 5,
   "id": "a17f71e8",
   "metadata": {},
   "outputs": [
    {
     "data": {
      "text/plain": [
       "(9, 4)"
      ]
     },
     "execution_count": 5,
     "metadata": {},
     "output_type": "execute_result"
    }
   ],
   "source": [
    "df.shape"
   ]
  },
  {
   "cell_type": "code",
   "execution_count": 6,
   "id": "e9b17cf1",
   "metadata": {},
   "outputs": [
    {
     "data": {
      "text/plain": [
       "date          0\n",
       "product_id    0\n",
       "quantity      0\n",
       "revenue       0\n",
       "dtype: int64"
      ]
     },
     "execution_count": 6,
     "metadata": {},
     "output_type": "execute_result"
    }
   ],
   "source": [
    "df.isnull().sum()"
   ]
  },
  {
   "cell_type": "markdown",
   "id": "1bf2b581",
   "metadata": {},
   "source": [
    "**Observation:   Dataset has 4 columns that is ['date', 'product_id', 'quantity', 'revenue'] and 9 rows. No null value is present in the dataset.**"
   ]
  },
  {
   "cell_type": "code",
   "execution_count": null,
   "id": "98dc9b5f",
   "metadata": {},
   "outputs": [],
   "source": []
  },
  {
   "cell_type": "code",
   "execution_count": 7,
   "id": "c4a4a5e1",
   "metadata": {},
   "outputs": [],
   "source": [
    "# Finding total Revenue of each product"
   ]
  },
  {
   "cell_type": "code",
   "execution_count": 8,
   "id": "4ce9416a",
   "metadata": {},
   "outputs": [
    {
     "data": {
      "text/plain": [
       "product_id\n",
       "1001    330.0\n",
       "1002    360.0\n",
       "1003    270.0\n",
       "Name: revenue, dtype: float64"
      ]
     },
     "execution_count": 8,
     "metadata": {},
     "output_type": "execute_result"
    }
   ],
   "source": [
    "product_revenue = df.groupby('product_id')['revenue'].sum()\n",
    "product_revenue"
   ]
  },
  {
   "cell_type": "code",
   "execution_count": null,
   "id": "f0da0f11",
   "metadata": {},
   "outputs": [],
   "source": []
  },
  {
   "cell_type": "code",
   "execution_count": 9,
   "id": "675252b9",
   "metadata": {},
   "outputs": [
    {
     "data": {
      "text/plain": [
       "product_id\n",
       "1002    360.0\n",
       "1001    330.0\n",
       "1003    270.0\n",
       "Name: revenue, dtype: float64"
      ]
     },
     "execution_count": 9,
     "metadata": {},
     "output_type": "execute_result"
    }
   ],
   "source": [
    "# Sort the products by revenue in descending order and select the top 10\n",
    "top_products = product_revenue.sort_values(ascending=False).head(10)\n",
    "top_products"
   ]
  },
  {
   "cell_type": "markdown",
   "id": "f0e0259d",
   "metadata": {},
   "source": [
    "**Observation:     Product with product_id '1002' has maximum Revenue**"
   ]
  },
  {
   "cell_type": "code",
   "execution_count": null,
   "id": "61251ef1",
   "metadata": {},
   "outputs": [],
   "source": []
  },
  {
   "cell_type": "code",
   "execution_count": 10,
   "id": "791bdd8f",
   "metadata": {},
   "outputs": [],
   "source": [
    "# Bar plot to visualize the top 10 products by revenue. (Here we have only 3 products: 1001, 1002, 1003)"
   ]
  },
  {
   "cell_type": "code",
   "execution_count": 11,
   "id": "ab8a3408",
   "metadata": {},
   "outputs": [
    {
     "data": {
      "image/png": "[encoded data removed]",
      "text/plain": [
       "<Figure size 720x432 with 1 Axes>"
      ]
     },
     "metadata": {
      "needs_background": "light"
     },
     "output_type": "display_data"
    }
   ],
   "source": [
    "plt.figure(figsize=(10, 6))\n",
    "top_products.plot(kind='bar', color='skyblue')\n",
    "plt.title('Top 10 Products by Revenue')\n",
    "plt.xlabel('Product ID')\n",
    "plt.ylabel('Total Revenue')\n",
    "plt.xticks(rotation=45)\n",
    "plt.tight_layout()\n",
    "plt.show()"
   ]
  },
  {
   "cell_type": "markdown",
   "id": "f8bd216e",
   "metadata": {},
   "source": [
    "**Observation:  Product with 'product_id - 1002' has generated maximum revenue**"
   ]
  },
  {
   "cell_type": "code",
   "execution_count": null,
   "id": "0301c515",
   "metadata": {},
   "outputs": [],
   "source": []
  }
 ],
 "metadata": {
  "kernelspec": {
   "display_name": "Python 3 (ipykernel)",
   "language": "python",
   "name": "python3"
  },
  "language_info": {
   "codemirror_mode": {
    "name": "ipython",
    "version": 3
   },
   "file_extension": ".py",
   "mimetype": "text/x-python",
   "name": "python",
   "nbconvert_exporter": "python",
   "pygments_lexer": "ipython3",
   "version": "3.9.12"
  }
 },
 "nbformat": 4,
 "nbformat_minor": 5
}
